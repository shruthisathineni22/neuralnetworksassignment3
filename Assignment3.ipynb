{
  "nbformat": 4,
  "nbformat_minor": 0,
  "metadata": {
    "colab": {
      "provenance": []
    },
    "kernelspec": {
      "name": "python3",
      "display_name": "Python 3"
    },
    "language_info": {
      "name": "python"
    }
  },
  "cells": [
    {
      "cell_type": "code",
      "execution_count": 5,
      "metadata": {
        "colab": {
          "base_uri": "https://localhost:8080/"
        },
        "id": "mpLL1Ga65zM0",
        "outputId": "08799436-4960-41a4-e8cb-4416a22d8ab1"
      },
      "outputs": [
        {
          "output_type": "stream",
          "name": "stdout",
          "text": [
            "Average salary: $61666.67\n",
            "Total employees: 3\n"
          ]
        }
      ],
      "source": [
        "class Employee:\n",
        "    total_employees = 0\n",
        "\n",
        "    def __init__(self, name, family, salary, department):\n",
        "        self.name = name\n",
        "        self.family = family\n",
        "        self.salary = salary\n",
        "        self.department = department\n",
        "        Employee.total_employees += 1\n",
        "\n",
        "    def average_salary(self, employee_list):\n",
        "        total_salary = 0\n",
        "        for e in employee_list:\n",
        "            total_salary += e.salary\n",
        "        return total_salary / len(employee_list)\n",
        "\n",
        "class FulltimeEmployee(Employee):\n",
        "    def __init__(self, name, family, salary, department):\n",
        "        super().__init__(name, family, salary, department)\n",
        "\n",
        "# Creating instances of Employee and FulltimeEmployee classes\n",
        "employee1 = Employee(\"John Doe\", \"Family A\", 60000, \"HR\")\n",
        "employee2 = Employee(\"Jane Smith\", \"Family B\", 55000, \"IT\")\n",
        "fulltime_employee1 = FulltimeEmployee(\"Alice Johnson\", \"Family C\", 70000, \"Finance\")\n",
        "\n",
        "# Calling member functions\n",
        "employees = [employee1, employee2, fulltime_employee1]\n",
        "avg_salary = employee1.average_salary(employees)\n",
        "print(f\"Average salary: ${avg_salary:.2f}\")\n",
        "print(f\"Total employees: {Employee.total_employees}\")\n"
      ]
    },
    {
      "cell_type": "code",
      "source": [
        "import numpy as np\n",
        "\n",
        "random_vector = np.random.uniform(1, 20, size=20)\n",
        "\n",
        "print(\"original vector : \",random_vector)\n",
        "\n",
        "reshaped_array = random_vector.reshape(4, 5)\n",
        "\n",
        "reshaped_array[np.arange(reshaped_array.shape[0]), np.argmax(reshaped_array, axis=1)] = 0\n",
        "\n",
        "print(\"Original reshaped array:\")\n",
        "print(reshaped_array)"
      ],
      "metadata": {
        "colab": {
          "base_uri": "https://localhost:8080/"
        },
        "id": "SLq6nJqP7U-h",
        "outputId": "9ab9373f-1787-4243-d063-04b43eafc2ee"
      },
      "execution_count": 6,
      "outputs": [
        {
          "output_type": "stream",
          "name": "stdout",
          "text": [
            "original vector :  [ 1.26670721 17.49830639  1.63418369 16.4350893   4.41289524 18.57978106\n",
            " 12.13937611 15.33188004  4.45576302  3.94208022 13.55341899 17.55979618\n",
            "  8.99605818  9.08687115 15.01215221  6.23509759  2.89025161  8.56043357\n",
            " 15.2165156   1.12521565]\n",
            "Original reshaped array:\n",
            "[[ 1.26670721  0.          1.63418369 16.4350893   4.41289524]\n",
            " [ 0.         12.13937611 15.33188004  4.45576302  3.94208022]\n",
            " [13.55341899  0.          8.99605818  9.08687115 15.01215221]\n",
            " [ 6.23509759  2.89025161  8.56043357  0.          1.12521565]]\n"
          ]
        }
      ]
    }
  ]
}